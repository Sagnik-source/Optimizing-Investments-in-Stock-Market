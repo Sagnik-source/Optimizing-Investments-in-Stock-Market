# Importing required modules
import pandas as pd
import numpy as np

# for data visualization
import seaborn as sns
import matplotlib.pyplot as plt

# setting charts size and style
plt.rcParams['figure.figsize'] = (15, 4)
plt.style.use('fivethirtyeight')

# Reading in the stock market data
stock_data = pd.read_csv('stock_data.csv',
                         parse_dates = True,
                        index_col = ['Date'])
print("Shape of Stock Data: ",stock_data.shape)

# reading the benchmark data
benchmark_data = pd.read_csv('benchmark_data.csv', 
                             parse_dates = True,
                             index_col = ['Date'])
print("Shape of Benchmark Data :", benchmark_data.shape)

# lets remove the Duplicates from the Data using dropna function

stock_data = stock_data.dropna()
benchmark_data = benchmark_data.dropna()

# lets check the shape of the datasets again
print("Shape of Stock Data :", stock_data.shape)
print("Shape of Benchmark Data :", benchmark_data.shape)

# lets check the First and Last record of the Data sets.

print("The Stock Data for Amazon and Facebook")
print(stock_data.head(1))

print("\n The last Record for Amazon and Facebook")
print(stock_data.tail(1))

print("\n The BenchMark Data (S&P Global)")
print(benchmark_data.head(1))

print("\n The last record for BenchMark Data (S&P Global)")
print(benchmark_data.tail(1))

# lets check the statistics for the Stock and Benchmark Data

print("Descriptive Statistics for Stock Data: Amazon and Facebook")
print(stock_data.describe())

print("\n Descriptive Statistics for Benchmark Data: S&P 500")
print(benchmark_data.describe())

# lets visualize the Stock Market Data

plt.rcParams['figure.figsize'] = (8, 8)
stock_data.plot(subplots = True, title = 'Stock Data')
benchmark_data.plot(title = 'S&P 500', color = 'black')
plt.show()

# calculate daily stock_data returns using the pct-change function
stock_returns = stock_data.pct_change()

# plot the daily returns using the plot function
plt.rcParams['figure.figsize'] = (15, 6)
stock_returns.plot()
plt.show()

# summarize the daily returns using describe function
stock_returns.describe()

# calculate daily benchmark_data returns
sp_returns = benchmark_data['S&P 500'].pct_change()

# plot the daily returns
sp_returns.plot()

# summarize the daily returns
sp_returns.describe()

# calculate the difference in daily returns
excess_returns = stock_returns.sub(sp_returns, axis = 0)

# plot the excess_returns
excess_returns.plot()

# summarize the excess_returns
excess_returns.describe()

# calculate the mean of excess_returns 
avg_excess_return = excess_returns.mean()

# plot avg_excess_returns
plt.rcParams['figure.figsize'] = (8,4)
avg_excess_return.plot.bar(title = 'Mean of the Return Difference')
plt.show()

# calculate the standard deviations
sd_excess_return = excess_returns.std()

# plot the standard deviations
sd_excess_return.plot.bar(title = 'Standard Deviation of the Return Difference')
plt.show()

# calculate the daily sharpe ratio
daily_sharpe_ratio = avg_excess_return.div(sd_excess_return)

# annualize the sharpe ratio
annual_factor = np.sqrt(252)
annual_sharpe_ratio = daily_sharpe_ratio.mul(annual_factor)

# plot the annualized sharpe ratio
annual_sharpe_ratio.plot.bar(title = 'Annualized Sharpe Ratio: Stocks vs S&P 500')
plt.show()

